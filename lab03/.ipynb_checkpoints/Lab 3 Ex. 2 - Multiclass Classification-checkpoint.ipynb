{
 "cells": [
  {
   "cell_type": "code",
   "execution_count": null,
   "metadata": {
    "collapsed": true
   },
   "outputs": [],
   "source": [
    "# PLEASE NOTE - THERE ARE TWO NOTEBOOKS IN LAB 3!\n",
    "\n",
    "# This notebook is for working through some classifier comparison techniques \n",
    "# it corresponds to Lecture Handouts 3 and 4.\n",
    "#\n",
    "# The questions are:\n",
    "#  -- Section 1: binary (two-class) classification (notebook: Lab 3 Ex. 1)  -- \n",
    "#   i) Evaluate & compare the ROC curves for different classifiers.\n",
    "#  ii) Influence the classifier performance by introducing class weights.\n",
    "#\n",
    "#  -- Section 2: multi-class classification (notebook: Lab 3 Ex. 2) --\n",
    "# iii) Evaluate & compare classifiers using the confusion matrix.\n",
    "#  iv) Classifier selection with practical criteria."
   ]
  },
  {
   "cell_type": "code",
   "execution_count": 1,
   "metadata": {},
   "outputs": [],
   "source": [
    "# Autoload setup (you don't need to edit this cell); instructions to: \n",
    "#   i) enable autoreloading of modules\n",
    "%load_ext autoreload\n",
    "#  ii) import the module 'lab_3' (which will contain your functions) in an autoreloadable way \n",
    "%aimport lab_3\n",
    "# iii) indicate that we want autoreloading to happen on every evaluation.\n",
    "%autoreload 1"
   ]
  },
  {
   "cell_type": "code",
   "execution_count": 2,
   "metadata": {},
   "outputs": [],
   "source": [
    "##############################################################\n",
    "#\n",
    "# Module import -- see Ex. 1 notebook.\n",
    "#\n",
    "##############################################################\n",
    "import pandas as pd\n",
    "import numpy as np\n",
    "import sklearn as skl\n",
    "import time\n",
    "import itertools\n",
    "\n",
    "import matplotlib as mpl\n",
    "import matplotlib.pyplot as plt\n",
    "from matplotlib.colors import ListedColormap\n",
    "%matplotlib inline\n",
    "plt.style.use('fivethirtyeight')\n",
    "plt.rcParams['lines.linewidth'] = 1.7\n",
    "\n",
    "import sklearn.linear_model as skl_lm\n",
    "\n",
    "from sklearn.datasets import fetch_mldata\n",
    "from sklearn.utils import check_random_state\n",
    "\n",
    "from sklearn.metrics import confusion_matrix, classification_report, precision_score\n",
    "from sklearn.model_selection import train_test_split\n",
    "from sklearn.preprocessing import StandardScaler\n",
    "from sklearn.datasets import make_moons, make_circles, make_classification\n",
    "from sklearn.neural_network import MLPClassifier\n",
    "from sklearn.neighbors import KNeighborsClassifier\n",
    "from sklearn.svm import SVC\n",
    "from sklearn.gaussian_process import GaussianProcessClassifier\n",
    "from sklearn.gaussian_process.kernels import RBF\n",
    "from sklearn.tree import DecisionTreeClassifier\n",
    "from sklearn.ensemble import RandomForestClassifier, AdaBoostClassifier\n",
    "from sklearn.naive_bayes import GaussianNB\n",
    "from sklearn.discriminant_analysis import QuadraticDiscriminantAnalysis\n",
    "from sklearn.linear_model import LogisticRegression\n",
    "\n",
    "import time\n",
    "\n"
   ]
  },
  {
   "cell_type": "code",
   "execution_count": 3,
   "metadata": {},
   "outputs": [],
   "source": [
    "def plot_confusion_matrix(cm, classes,\n",
    "                          normalize=False,\n",
    "                          show_values=False,\n",
    "                          title='Confusion matrix',\n",
    "                          cmap=plt.cm.Blues):\n",
    "    \"\"\"\n",
    "    This function prints and plots the confusion matrix.\n",
    "    Normalization can be applied by setting `normalize=True`.\n",
    "    \"\"\"\n",
    "    if normalize:\n",
    "        cm = cm.astype('float') / cm.sum(axis=1)[:, np.newaxis]\n",
    "        print(\"Normalized confusion matrix\")\n",
    "    else:\n",
    "        print('Confusion matrix, without normalization')\n",
    "\n",
    "    print(cm)\n",
    "    ax = plt.figure(figsize=(10, 10)).add_subplot(111)\n",
    "    plt.imshow(cm, interpolation='nearest', cmap=cmap)\n",
    "    plt.title(title)\n",
    "    plt.colorbar(fraction=0.02, pad=0.04)\n",
    "    tick_marks = np.arange(len(classes))\n",
    "    plt.xticks(tick_marks, classes, rotation=0)\n",
    "    plt.yticks(tick_marks, classes)\n",
    "    plt.grid(False)\n",
    "\n",
    "    if (show_values):\n",
    "        fmt = '.2f' if normalize else 'd'\n",
    "        thresh = 2*cm.max() / 3.\n",
    "        for i, j in itertools.product(range(cm.shape[0]), range(cm.shape[1])):\n",
    "            plt.text(j, i, format(cm[i, j], fmt),\n",
    "                     horizontalalignment=\"center\",\n",
    "                     color=\"white\" if cm[i, j] > thresh else \"black\")\n",
    "\n",
    "    plt.tight_layout()\n",
    "    plt.ylabel('True label')\n",
    "    plt.xlabel('Predicted label')"
   ]
  },
  {
   "cell_type": "code",
   "execution_count": 4,
   "metadata": {},
   "outputs": [],
   "source": [
    "# We are using off the shelf classifiers from the sklearn package\n",
    "classifiers = {\n",
    "    'Nearest Neighbors': KNeighborsClassifier(3),\n",
    "    'Multinomial Logistic': LogisticRegression(C=50.0 / 5000,\n",
    "                                multi_class='multinomial',\n",
    "                                solver='newton-cg', tol=0.2),\n",
    "    'Linear SVM' : SVC(kernel=\"linear\", C=0.025, probability=True),\n",
    "    'RBF SVM'    : SVC(C=5, gamma=0.05, probability=True),\n",
    "    'Decision Tree' : DecisionTreeClassifier(max_depth=5)\n",
    "}\n"
   ]
  },
  {
   "cell_type": "code",
   "execution_count": 5,
   "metadata": {},
   "outputs": [
    {
     "name": "stderr",
     "output_type": "stream",
     "text": [
      "/usr/local/lib/python3.7/site-packages/sklearn/utils/deprecation.py:85: DeprecationWarning: Function fetch_mldata is deprecated; fetch_mldata was deprecated in version 0.20 and will be removed in version 0.22. Please use fetch_openml.\n",
      "  warnings.warn(msg, category=DeprecationWarning)\n",
      "/usr/local/lib/python3.7/site-packages/sklearn/utils/deprecation.py:85: DeprecationWarning: Function mldata_filename is deprecated; mldata_filename was deprecated in version 0.20 and will be removed in version 0.22. Please use fetch_openml.\n",
      "  warnings.warn(msg, category=DeprecationWarning)\n"
     ]
    }
   ],
   "source": [
    "#  \n",
    "# Going Further: MultiClass Classification on the MNIST Dataset \n",
    "# using the Multinomial Logistic Regression\n",
    "# \n",
    "# Loading the MNIST dataset\n",
    "train_samples = 2000\n",
    "\n",
    "mnist = fetch_mldata('MNIST original')\n",
    "X = mnist.data.astype('float')/255\n",
    "# X = StandardScaler().fit_transform(X)  # don't do this --- it makes every pixel equally significant!\n",
    "y = mnist.target\n",
    "random_state = check_random_state(0)\n",
    "permutation = random_state.permutation(X.shape[0])\n",
    "X = X[permutation]\n",
    "y = y[permutation]\n",
    "X = X.reshape((X.shape[0], -1))\n",
    "\n",
    "# splitting the dataset into training set and testing set\n",
    "\n",
    "X_train, X_test, y_train, y_test = train_test_split(\n",
    "    X, y, train_size=train_samples, test_size=500, random_state=0)"
   ]
  },
  {
   "cell_type": "code",
   "execution_count": 6,
   "metadata": {},
   "outputs": [
    {
     "data": {
      "image/png": "[encoded data removed]",
      "text/plain": [
       "<Figure size 864x864 with 9 Axes>"
      ]
     },
     "metadata": {
      "needs_background": "light"
     },
     "output_type": "display_data"
    }
   ],
   "source": [
    "# showing some of the examples in the dataset\n",
    "\n",
    "fig, ax = plt.subplots(3,3, figsize=(12,12))\n",
    "\n",
    "for i in range(9):\n",
    "    picture = np.reshape(X_train[i], (28, 28))\n",
    "\n",
    "    plt.subplot(3,3,i+1)\n",
    "    plt.imshow(picture, cmap='gray', interpolation='none')\n",
    "    plt.gca().grid(False) \n",
    "    plt.title(\"Class {}\".format(int(y_train[i])))"
   ]
  },
  {
   "cell_type": "code",
   "execution_count": 7,
   "metadata": {},
   "outputs": [
    {
     "name": "stdout",
     "output_type": "stream",
     "text": [
      "training for classifer: Nearest Neighbors\n",
      "training for classifer: Multinomial Logistic\n",
      "training for classifer: Linear SVM\n",
      "training for classifer: RBF SVM\n",
      "training for classifer: Decision Tree\n",
      "done\n"
     ]
    }
   ],
   "source": [
    "metrics = {}\n",
    "\n",
    "for name, classifier in classifiers.items():    \n",
    "\n",
    "    print('training for classifer: {}'.format(name))\n",
    "    start_time = time.time()\n",
    "    classifier.fit(X_train, y_train)\n",
    "    end_time = time.time()\n",
    "    \n",
    "    m = {}\n",
    "    m['training_time'] = end_time - start_time\n",
    "    metrics[name] = m\n",
    "\n",
    "print(\"done\")"
   ]
  },
  {
   "cell_type": "code",
   "execution_count": 8,
   "metadata": {},
   "outputs": [
    {
     "name": "stdout",
     "output_type": "stream",
     "text": [
      "predictions for classifer: Nearest Neighbors\n",
      "predictions for classifer: Multinomial Logistic\n",
      "predictions for classifer: Linear SVM\n",
      "predictions for classifer: RBF SVM\n",
      "predictions for classifer: Decision Tree\n",
      "done\n"
     ]
    }
   ],
   "source": [
    "from sklearn.metrics import accuracy_score\n",
    "from sklearn.metrics import recall_score\n",
    "from sklearn.metrics import precision_score\n",
    "from sklearn.metrics import f1_score\n",
    "\n",
    "\n",
    "for name, classifier in classifiers.items():  \n",
    "    print('predictions for classifer: {}'.format(name))\n",
    "    start_time = time.time()\n",
    "    y_pred = classifier.predict(X_test)\n",
    "    end_time = time.time()\n",
    "\n",
    "    m = {}\n",
    "    m['f1'] = f1_score(y_test, y_pred, average='macro')\n",
    "    m['accuracy'] = accuracy_score(y_test, y_pred)\n",
    "    m['precision'] = precision_score(y_test, y_pred, average='macro')\n",
    "    m['recall'] = recall_score(y_test, y_pred, average='macro')\n",
    "    m['prediction_time'] = end_time - start_time\n",
    "    metrics[name].update(m)\n",
    "print(\"done\")\n"
   ]
  },
  {
   "cell_type": "code",
   "execution_count": 9,
   "metadata": {},
   "outputs": [
    {
     "data": {
      "text/html": [
       "<div>\n",
       "<style scoped>\n",
       "    .dataframe tbody tr th:only-of-type {\n",
       "        vertical-align: middle;\n",
       "    }\n",
       "\n",
       "    .dataframe tbody tr th {\n",
       "        vertical-align: top;\n",
       "    }\n",
       "\n",
       "    .dataframe thead th {\n",
       "        text-align: right;\n",
       "    }\n",
       "</style>\n",
       "<table border=\"1\" class=\"dataframe\">\n",
       "  <thead>\n",
       "    <tr style=\"text-align: right;\">\n",
       "      <th></th>\n",
       "      <th>training_time</th>\n",
       "      <th>f1</th>\n",
       "      <th>accuracy</th>\n",
       "      <th>precision</th>\n",
       "      <th>recall</th>\n",
       "      <th>prediction_time</th>\n",
       "    </tr>\n",
       "  </thead>\n",
       "  <tbody>\n",
       "    <tr>\n",
       "      <td>Nearest Neighbors</td>\n",
       "      <td>0.066520</td>\n",
       "      <td>0.918661</td>\n",
       "      <td>0.920</td>\n",
       "      <td>0.923073</td>\n",
       "      <td>0.917445</td>\n",
       "      <td>1.216565</td>\n",
       "    </tr>\n",
       "    <tr>\n",
       "      <td>Multinomial Logistic</td>\n",
       "      <td>0.627456</td>\n",
       "      <td>0.860817</td>\n",
       "      <td>0.864</td>\n",
       "      <td>0.865882</td>\n",
       "      <td>0.860016</td>\n",
       "      <td>0.001270</td>\n",
       "    </tr>\n",
       "    <tr>\n",
       "      <td>Linear SVM</td>\n",
       "      <td>6.230832</td>\n",
       "      <td>0.891544</td>\n",
       "      <td>0.894</td>\n",
       "      <td>0.894479</td>\n",
       "      <td>0.891254</td>\n",
       "      <td>0.628938</td>\n",
       "    </tr>\n",
       "    <tr>\n",
       "      <td>RBF SVM</td>\n",
       "      <td>26.015721</td>\n",
       "      <td>0.934887</td>\n",
       "      <td>0.938</td>\n",
       "      <td>0.935974</td>\n",
       "      <td>0.936201</td>\n",
       "      <td>0.703304</td>\n",
       "    </tr>\n",
       "    <tr>\n",
       "      <td>Decision Tree</td>\n",
       "      <td>0.139679</td>\n",
       "      <td>0.610949</td>\n",
       "      <td>0.626</td>\n",
       "      <td>0.617323</td>\n",
       "      <td>0.617893</td>\n",
       "      <td>0.001520</td>\n",
       "    </tr>\n",
       "  </tbody>\n",
       "</table>\n",
       "</div>"
      ],
      "text/plain": [
       "                      training_time        f1  accuracy  precision    recall  \\\n",
       "Nearest Neighbors          0.066520  0.918661     0.920   0.923073  0.917445   \n",
       "Multinomial Logistic       0.627456  0.860817     0.864   0.865882  0.860016   \n",
       "Linear SVM                 6.230832  0.891544     0.894   0.894479  0.891254   \n",
       "RBF SVM                   26.015721  0.934887     0.938   0.935974  0.936201   \n",
       "Decision Tree              0.139679  0.610949     0.626   0.617323  0.617893   \n",
       "\n",
       "                      prediction_time  \n",
       "Nearest Neighbors            1.216565  \n",
       "Multinomial Logistic         0.001270  \n",
       "Linear SVM                   0.628938  \n",
       "RBF SVM                      0.703304  \n",
       "Decision Tree                0.001520  "
      ]
     },
     "metadata": {},
     "output_type": "display_data"
    }
   ],
   "source": [
    "df = pd.DataFrame(metrics).transpose()\n",
    "display(df)\n"
   ]
  },
  {
   "cell_type": "code",
   "execution_count": null,
   "metadata": {},
   "outputs": [],
   "source": [
    "# Question:\n",
    "# What percentage of images in the test set are misclassified by the RBF SVM classifier?\n",
    "#\n",
    "# Provide your answer in the function 'question_3' in the lab module ('lab_3.py').\n"
   ]
  },
  {
   "cell_type": "code",
   "execution_count": 10,
   "metadata": {},
   "outputs": [
    {
     "name": "stdout",
     "output_type": "stream",
     "text": [
      "Normalized confusion matrix\n",
      "[[ 0.947  0.000  0.000  0.000  0.000  0.000  0.026  0.000  0.026  0.000]\n",
      " [ 0.000  0.985  0.015  0.000  0.000  0.000  0.000  0.000  0.000  0.000]\n",
      " [ 0.024  0.000  0.976  0.000  0.000  0.000  0.000  0.000  0.000  0.000]\n",
      " [ 0.000  0.000  0.019  0.962  0.000  0.019  0.000  0.000  0.000  0.000]\n",
      " [ 0.000  0.000  0.000  0.000  1.000  0.000  0.000  0.000  0.000  0.000]\n",
      " [ 0.000  0.000  0.000  0.000  0.022  0.957  0.022  0.000  0.000  0.000]\n",
      " [ 0.000  0.000  0.000  0.000  0.000  0.038  0.962  0.000  0.000  0.000]\n",
      " [ 0.042  0.021  0.042  0.000  0.000  0.000  0.000  0.812  0.042  0.042]\n",
      " [ 0.000  0.019  0.019  0.019  0.000  0.000  0.038  0.000  0.906  0.000]\n",
      " [ 0.000  0.000  0.042  0.021  0.021  0.000  0.000  0.062  0.000  0.854]]\n"
     ]
    },
    {
     "data": {
      "image/png": "[encoded data removed]",
      "text/plain": [
       "<Figure size 720x720 with 2 Axes>"
      ]
     },
     "metadata": {
      "needs_background": "light"
     },
     "output_type": "display_data"
    }
   ],
   "source": [
    "# Examine the performance of the RBF SVM classifier via the confusion matrix.\n",
    "\n",
    "predicted_classes = classifiers['RBF SVM'].predict(X_test)\n",
    "\n",
    "M = skl.metrics.confusion_matrix(y_test, predicted_classes)\n",
    "\n",
    "class_names = [str(n) for n in range(0,10)]\n",
    "np.set_printoptions(formatter={'float': '{: 0.3f}'.format})\n",
    "plot_confusion_matrix(M, class_names, normalize=True, show_values=True)"
   ]
  },
  {
   "cell_type": "code",
   "execution_count": null,
   "metadata": {
    "collapsed": true
   },
   "outputs": [],
   "source": [
    "# Question:\n",
    "# Which digit is most frequently misclassified?\n",
    "#\n",
    "# Provide your answer in the function 'question_4' in the lab module ('lab_3.py')."
   ]
  }
 ],
 "metadata": {
  "kernelspec": {
   "display_name": "Python 3",
   "language": "python",
   "name": "python3"
  },
  "language_info": {
   "codemirror_mode": {
    "name": "ipython",
    "version": 3
   },
   "file_extension": ".py",
   "mimetype": "text/x-python",
   "name": "python",
   "nbconvert_exporter": "python",
   "pygments_lexer": "ipython3",
   "version": "3.7.4"
  }
 },
 "nbformat": 4,
 "nbformat_minor": 2
}
