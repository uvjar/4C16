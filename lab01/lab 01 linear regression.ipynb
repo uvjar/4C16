{
 "cells": [
  {
   "cell_type": "code",
   "execution_count": 38,
   "metadata": {},
   "outputs": [],
   "source": [
    "import numpy as np\n",
    "\n",
    "def linear_regression(x, y, eps=0):\n",
    "    X=design_matrix(x)\n",
    "    w = linear(X,y,eps)\n",
    "    return w\n",
    "\n",
    "def linear(X,y,eps=0):\n",
    "    M = np.dot(np.transpose(X), X)+eps*identity(X.shape[0])\n",
    "    return np.dot(np.linalg.inv(M),np.dot(np.transpose(X),y) )\n",
    "\n",
    "def design_matrix(x):\n",
    "    X = np.zeros([len(x),len(x)])\n",
    "    for i in range(len(x)):\n",
    "        for p in range(len(x)):\n",
    "            X[i,p] = x[i]**p\n",
    "    \n",
    "    return X\n",
    "\n",
    "def least_square(y1,y2):\n",
    "    y=y1-y2\n",
    "    y=np.square(y)\n",
    "    return np.mean(y)\n",
    "\n",
    "def question_4(w):\n",
    "    order =0;\n",
    "    for i in range(len(w)-1,-1,-1):\n",
    "        if ( w[i] !=0 ):\n",
    "            order = i\n",
    "    return order\n",
    "\n",
    "\n",
    "\n"
   ]
  },
  {
   "cell_type": "code",
   "execution_count": 50,
   "metadata": {},
   "outputs": [
    {
     "name": "stdout",
     "output_type": "stream",
     "text": [
      "8\n",
      "7\n",
      "6\n",
      "5\n",
      "4\n",
      "3\n",
      "2\n",
      "1\n",
      "0\n"
     ]
    }
   ],
   "source": [
    "\n",
    "for i in range(8,-1,-1):\n",
    "    print(i)"
   ]
  },
  {
   "cell_type": "code",
   "execution_count": null,
   "metadata": {},
   "outputs": [],
   "source": []
  }
 ],
 "metadata": {
  "kernelspec": {
   "display_name": "Python 3",
   "language": "python",
   "name": "python3"
  },
  "language_info": {
   "codemirror_mode": {
    "name": "ipython",
    "version": 3
   },
   "file_extension": ".py",
   "mimetype": "text/x-python",
   "name": "python",
   "nbconvert_exporter": "python",
   "pygments_lexer": "ipython3",
   "version": "3.7.4"
  }
 },
 "nbformat": 4,
 "nbformat_minor": 2
}
